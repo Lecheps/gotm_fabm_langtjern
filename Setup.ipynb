{
 "cells": [
  {
   "cell_type": "code",
   "execution_count": 1,
   "metadata": {
    "collapsed": false,
    "deletable": true,
    "editable": true
   },
   "outputs": [
    {
     "ename": "ImportError",
     "evalue": "cannot import name 'showByDepth'",
     "output_type": "error",
     "traceback": [
      "\u001b[0;31m---------------------------------------------------------------------------\u001b[0m",
      "\u001b[0;31mImportError\u001b[0m                               Traceback (most recent call last)",
      "\u001b[0;32m<ipython-input-1-87665ff79b90>\u001b[0m in \u001b[0;36m<module>\u001b[0;34m()\u001b[0m\n\u001b[1;32m     17\u001b[0m \u001b[0;32mimport\u001b[0m \u001b[0mre\u001b[0m\u001b[0;34m\u001b[0m\u001b[0m\n\u001b[1;32m     18\u001b[0m \u001b[0;32mimport\u001b[0m \u001b[0msubprocess\u001b[0m\u001b[0;34m\u001b[0m\u001b[0m\n\u001b[0;32m---> 19\u001b[0;31m \u001b[0;32mfrom\u001b[0m \u001b[0mdisplayNC\u001b[0m \u001b[0;32mimport\u001b[0m \u001b[0mdisplayVariables\u001b[0m\u001b[0;34m,\u001b[0m\u001b[0mtemperatureDisplay\u001b[0m\u001b[0;34m,\u001b[0m\u001b[0mshowByDepth\u001b[0m\u001b[0;34m\u001b[0m\u001b[0m\n\u001b[0m\u001b[1;32m     20\u001b[0m \u001b[0;32mfrom\u001b[0m \u001b[0mnetCDF4\u001b[0m \u001b[0;32mimport\u001b[0m \u001b[0mDataset\u001b[0m\u001b[0;34m\u001b[0m\u001b[0m\n\u001b[1;32m     21\u001b[0m \u001b[0;32mfrom\u001b[0m \u001b[0mscipy\u001b[0m \u001b[0;32mimport\u001b[0m \u001b[0mstats\u001b[0m\u001b[0;34m\u001b[0m\u001b[0m\n",
      "\u001b[0;31mImportError\u001b[0m: cannot import name 'showByDepth'"
     ]
    }
   ],
   "source": [
    "#%matplotlib inline\n",
    "# Loading python modules used in this notebook\n",
    "#import pygments\n",
    "#from pygments import highlight\n",
    "#from pygments.lexers import MakefileLexer, CppLexer\n",
    "#from pygments.formatters import HtmlFormatter\n",
    "from IPython.core.display import display,HTML\n",
    "import sqlite3\n",
    "import xml.etree.ElementTree as ET\n",
    "import numpy as np\n",
    "import matplotlib\n",
    "import matplotlib.pyplot as plt\n",
    "from IPython.display import Image\n",
    "from matplotlib.ticker import FormatStrFormatter\n",
    "import os\n",
    "import fileinput\n",
    "import re\n",
    "import subprocess\n",
    "from displayNC import displayVariables,temperatureDisplay,showByDepth\n",
    "from netCDF4 import Dataset\n",
    "from scipy import stats\n",
    "\n",
    "\n",
    "plt.style.use('seaborn-whitegrid')\n",
    "\n",
    "    \n",
    "def plot_dotty(param,perf,names,figname) :\n",
    "    num_rows = len(names)\n",
    "    fig, axes = plt.subplots(nrows = num_rows, ncols = 1, figsize = (10, num_rows * 2.5))\n",
    "    cnt = 0\n",
    "    formatter = matplotlib.ticker.ScalarFormatter(useOffset=False)\n",
    "    for name,aH in zip(names, axes) :\n",
    "        plt.sca(aH)\n",
    "        lH, = plt.plot(param[:,cnt],perf,'b.',markersize = 1)\n",
    "        aH.set_xlabel(name)\n",
    "        #print name\n",
    "        #plt.xlim = (-100000,-70000)  #This is hardcoded and is horrible. Will eventually fail\n",
    "        aH.yaxis.set_major_formatter(formatter)\n",
    "        aH.xaxis.set_major_formatter(formatter)\n",
    "        aH.locator_params(axis='y',tight=True,nbins=6)\n",
    "        cnt = cnt + 1\n",
    "    fig.tight_layout()\n",
    "    plt.savefig(figname)\n",
    "    plt.close()"
   ]
  },
  {
   "cell_type": "markdown",
   "metadata": {
    "deletable": true,
    "editable": true
   },
   "source": [
    "# Setup of the GOTM/FABM model for Langtjern\n",
    "\n",
    "## Compiling GOTM and FABM\n",
    "\n",
    "Please follow the instructions at <https://github.com/gotm-model/code>. Please note that the provided instructions are only available for Linux systems at present. \n",
    "\n",
    "For Windows, a combination of Visual Studio, CMake and the Intel Fortran compiler should work with minimal modifications when CMake is setup to generate Visual Studio project files.\n",
    "\n",
    "For the rest of this document, it is assumed that Linux is used in combination with CMake, using GCC-5.4. \n",
    "\n",
    "### Getting the source code\n",
    "\n",
    "Credentials might be required for repositories. The text highlighted in a box should be run in a shell.\n",
    "\n",
    "#### GOTM\n",
    "\n",
    "Clone the source code to a directory of your choice.\n",
    "<section>\n",
    "   <div class=\"warn\">\n",
    "   git clone https://github.com/gotm-model/code.git\n",
    "   <div/>\n",
    "</section>\n",
    "\n",
    "Switch to lake branch.\n",
    "<section>\n",
    "   <div class=\"warn\">\n",
    "   git checkout lake\n",
    "   <div/>\n",
    "</section>\n",
    "\n",
    "#### FABM\n",
    "Clone the source code to a directory of your choice.\n",
    "<section>\n",
    "   <div class=\"warn\">\n",
    "   git clone git@gitlab.au.dk:anbios/fabm-prognos.git\n",
    "   <div/>\n",
    "</section>\n",
    "\n",
    "#### Langtjern setup\n",
    "Clone the source code to a directory of your choice.\n",
    "<section>\n",
    "   <div class=\"warn\">\n",
    "   git clone git@gitlab.au.dh:anbios/PROGNOS.git\n",
    "   <div/>\n",
    "</section>\n",
    "\n",
    "### Compiling\n",
    "\n",
    "#### FABM\n",
    "\n",
    "From within FABM source directory.\n",
    "\n",
    "Out-of-source builds should be preferred. Neater.\n",
    "Create a _./build_ directory in the root folder for FABM (or wherever you like but point to the right _/src_ folder in the _cmake_ command below:\n",
    "\n",
    "<section>\n",
    "   <div class=\"warn\">\n",
    "   mkdir build <br>\n",
    "   cd build <br>\n",
    "   cmake ../src -DFABM_HOST=gotm <br>\n",
    "   make <br>\n",
    "   make install\n",
    "   <div/>\n",
    "</section>\n",
    "\n",
    "Note that make will create libfabm.a in the _.build_ directory. _make install_ will place the library and some other include files in the _~/local_ directory. The later is convenient to have all the builds for both FABM and GOTM in a single directory (that can be added to the PATH) thus simplifying linking.\n",
    "\n",
    "#### GOTM\n",
    "\n",
    "From within GOTM source directory.\n",
    "\n",
    "Repeating the comments for the FABM compilation. Create a _./build_ directory in the root folder for GOTM. You will need to point _cmake_ to FABM root dir. Modify the cmake command below to point the the right locations if necessary:\n",
    "\n",
    "<section>\n",
    "   <div class=\"warn\">\n",
    "   mkdir build <br>\n",
    "   cd build <br>\n",
    "   cmake ../src -DFABM_BASE=../../fabm-gotm <br>\n",
    "   make <br>\n",
    "   make install\n",
    "   <div/>\n",
    "</section>\n",
    "\n",
    "### Running GOTM from the \"PROGNOS/Langtjern\" folder.\n",
    "\n",
    "\n",
    "GOTM and FABM can take a variety of inputs, depending on data availability. The format required is described in the [FABM repository](https://github.com/fabm-model/fabm/wiki/GOTM). In short, model setup relies on three different types of files:\n",
    "\n",
    "1. **.xml** General setup file. The different settings in _.nml_ files (see next item) will be read from the _langtjern.xml_ file inside the \"_Langtjern_\" folder.\n",
    "1. **.nml** (nameless) files, to regulate the interaction between FABM and GOTM. And also to specify processes to be used within GOTM.\n",
    "2. **.yaml** to specify which biogeochemical models will be used and their parameterizations.\n",
    "3. **.dat** data files used to force and evaluate the model. They are in the format specified in the above link. Their are two basic flavors of data files: depth-dependent or independent.\n",
    "\n",
    "In order to start running simulations with GOTM and FABM, some basic setup needs to be peformed first.\n",
    "\n",
    "From the \"_Langtjern_\" folder in the PROGNOS repository, _editscenario.sh_ &mdash;a wrapper to a python script&mdash; needs to be run. This basically creates the <i>gotm_fabm.nml</i> and other nameless files in the \"_Langtjern_\" folder, filling with options read from the _Langtjern.xml_ file. \n",
    "\n",
    "<b>Important note:</b> The default option is NOT to use FABM when running GOTM. In order to change this *fabm_calc*  needs to be set to _.true._ in <i>gotm_fabm.nml</i>.\n",
    "\n",
    "If you want to modify any setting there are two options:\n",
    "\n",
    "1. Modify the _Langtjern.xml_ file and run _editscenario.sh_.\n",
    "2. Modify the nameless files.\n",
    "\n",
    "#### Setting up the meteo data\n",
    "\n",
    "In order to run GOTM some basic meteo data are required. In this case, the file is called \n",
    "<i>meteo_file.dat</i> and should be located inside the _Langtjern_ folder. When instantiated through _editscenario.sh_ this file while be a copy of the file specified in  _langtjern.xml_. The file telling GOTM where the meteo data are located is _airsea.nml_.\n",
    "\n",
    "In our particular setup, the meteo file was generated by running a [Python jupyter notebook](http://nbviewer.jupyter.org/github/Lecheps/PROGNOS_data/blob/master/PROGNOS_preprocessing.ipynb) that loads data from [AquaMonitor](http://www.aquamonitor.no/Portal/) and puts in in the format required by GOTM/FABM.\n",
    "\n",
    "#### Running GOTM\n",
    "\n",
    "The _Langtjern.xml_ file was modified to point to file generated by the Jupyter notebook that processes the AquaMonitor data.\n",
    "\n",
    "After running \"./editscenario.sh\" the meteo data should be in place and GOTM should run.\n",
    "\n",
    "<section>\n",
    "   <div class=\"warn\">\n",
    "   ./gotm\n",
    "   <div/>\n",
    "</section>\n"
   ]
  },
  {
   "cell_type": "markdown",
   "metadata": {
    "deletable": true,
    "editable": true
   },
   "source": [
    "### Calibrating GOTM\n",
    "\n",
    "*ACPY*, a python package developped by B&B should be installed first with the provided wheel file.\n",
    "\n",
    "Once ACPY is installed and on the path, it should be run from the ACPY folder in the Langtjern folder. \n",
    "\n",
    "<section>\n",
    "   <div class=\"warn\">\n",
    "   acpy run config_acpy.xml\n",
    "   <div/>\n",
    "</section>\n",
    "\n",
    "A _temp.obs_ file containing the meteo data should be present in the ACPY folder. Note that the format is slightly different than the one required by FABM/GOTM.\n",
    "\n",
    "\n",
    "#### Results\n",
    "All the parameters tested during the calibration are saved in a sqlite database, whose name is specified in <i>config_acpy.xml</i>. Let's visualize the results of the calibration."
   ]
  },
  {
   "cell_type": "code",
   "execution_count": null,
   "metadata": {
    "collapsed": false,
    "deletable": true,
    "editable": true
   },
   "outputs": [],
   "source": [
    "basePath  = '/home/jose-luis/Dropbox/NIVA/PROGNOS_Development/PROGNOS/langtjern/acpy/'\n",
    "configFile = 'config_acpy.xml'\n",
    "\n",
    "#Getting name of database from config_acpy.xml\n",
    "tree = ET.parse(basePath + configFile)\n",
    "root = tree.getroot()\n",
    "p = tree.find(\"transports\")\n",
    "db_element = p.find(\"transport\")\n",
    "db_element = db_element.attrib\n",
    "db_path = basePath + db_element[\"path\"]\n",
    "\n",
    "#Getting parameter names from config_acpy.xml\n",
    "p = tree.find(\"parameters\")\n",
    "cnt = 0\n",
    "variable_list = []\n",
    "for i in p :\n",
    "    cnt += 1\n",
    "    dummy = i.attrib\n",
    "    if 'variable' in dummy :\n",
    "        variable_list.append(dummy[\"variable\"])\n",
    "    else :\n",
    "        variable_list.append(\"dummy\")\n",
    "        \n",
    "print(\"The variables being calibrated are: \", variable_list)"
   ]
  },
  {
   "cell_type": "code",
   "execution_count": null,
   "metadata": {
    "collapsed": false,
    "deletable": true,
    "editable": true
   },
   "outputs": [],
   "source": [
    "\n",
    "#Open database connection\n",
    "conn = sqlite3.connect(db_path)\n",
    "c = conn.cursor()\n",
    "#Getting the \"best\" parameter set according to the log-likelihood\n",
    "c.execute(\"SELECT parameters,lnlikelihood FROM results ORDER BY lnlikelihood DESC LIMIT 1\")\n",
    "params = c.fetchone()\n",
    "log_like = float(params[1])\n",
    "params = [float (x) for x in params[0].split(';')]\n",
    "\n",
    "\n",
    "print(\"The best performing parameters are: \")\n",
    "for a,b in zip(variable_list,params) :\n",
    "    print (a, \"\\t->\\t \", b)\n",
    "print(\"With log-likelihood -> \", log_like)"
   ]
  },
  {
   "cell_type": "code",
   "execution_count": null,
   "metadata": {
    "collapsed": false,
    "deletable": true,
    "editable": true
   },
   "outputs": [],
   "source": [
    "#Dotty plots simulation performed during calibration\n",
    "#Storing the parameters as a numpy array\n",
    "c.execute(\"SELECT parameters,lnlikelihood FROM results ORDER BY lnlikelihood DESC\");\n",
    "dotty_data = c.fetchall()\n",
    "param_array = np.zeros((len(dotty_data), len(params)))\n",
    "perf_array = np.zeros((len(dotty_data)))\n",
    "cnt = 0\n",
    "for i in dotty_data :\n",
    "    param_array[cnt][:] = np.fromstring(i[0],sep=';')\n",
    "    perf_array[cnt] = float(i[1])\n",
    "    cnt = cnt + 1\n",
    "    \n",
    "num_dots = int(len(perf_array)*0.05)    \n",
    "plot_dotty(param_array[:num_dots,:],perf_array[:num_dots],variable_list,\"dotty.jpg\")\n",
    "del param_array, perf_array\n",
    "conn.close()"
   ]
  },
  {
   "cell_type": "code",
   "execution_count": null,
   "metadata": {
    "collapsed": false,
    "deletable": true,
    "editable": true,
    "scrolled": false
   },
   "outputs": [],
   "source": [
    "Image(filename='dotty.jpg') "
   ]
  },
  {
   "cell_type": "markdown",
   "metadata": {
    "deletable": true,
    "editable": true
   },
   "source": [
    "#### Running GOTM/FABM with the best performing parameter set\n",
    "\n",
    "First, let's set parameter values in the respective nameless files. This can be read from <i>config_acpy.xml</i>."
   ]
  },
  {
   "cell_type": "code",
   "execution_count": null,
   "metadata": {
    "collapsed": false,
    "deletable": true,
    "editable": true
   },
   "outputs": [],
   "source": [
    "#Loading parameter file information from config_acpy.xml   \n",
    "tree = ET.parse(basePath + configFile)\n",
    "root = tree.getroot()\n",
    "p = tree.find(\"parameters\")\n",
    "parentPath = os.path.realpath(os.path.join(basePath,'..'))\n",
    "\n",
    "#Replacing paramters in file\n",
    "#This is laughingly inefficient but should do for smallish nml files\n",
    "print(\"Setting parameter value in file:\")\n",
    "for child, value in zip(p,params):\n",
    "    db_element = child.attrib\n",
    "    if 'dummy' not in db_element :\n",
    "        #Going up one path\n",
    "        filename = parentPath + '/' + db_element['file']\n",
    "        print(filename)\n",
    "        pattern = db_element['variable'] + '\\s*=.*$'\n",
    "        replacement = db_element['variable'] + ' = ' +  str(value) + ','\n",
    "        cnt = 0\n",
    "        f = fileinput.FileInput(filename, inplace=True, backup='.bak')\n",
    "        for line in f :\n",
    "            line = re.sub(pattern,replacement,line.rstrip())\n",
    "            print(line)\n",
    "        f.close()"
   ]
  },
  {
   "cell_type": "code",
   "execution_count": null,
   "metadata": {
    "collapsed": false,
    "deletable": true,
    "editable": true,
    "scrolled": true
   },
   "outputs": [],
   "source": [
    "#And now running gotm\n",
    "callStr = parentPath + '/' + 'gotm'\n",
    "print(parentPath)\n",
    "p = subprocess.Popen('./gotm', cwd = parentPath)\n",
    "p.wait()"
   ]
  },
  {
   "cell_type": "markdown",
   "metadata": {
    "deletable": true,
    "editable": true
   },
   "source": [
    "#### Evaluating results\n",
    "\n",
    "Loading the observed data:\n"
   ]
  },
  {
   "cell_type": "code",
   "execution_count": null,
   "metadata": {
    "collapsed": false,
    "deletable": true,
    "editable": true
   },
   "outputs": [],
   "source": [
    "filename = parentPath + '/output.nc'\n",
    "var_to_show = ['tprof','temp']\n",
    "fig_name = \"langtjern_temperatures.jpg\"\n",
    "temperatureDisplay(filename,fig_name)\n",
    "Image(filename=fig_name) "
   ]
  },
  {
   "cell_type": "markdown",
   "metadata": {},
   "source": [
    "And showing some statistics for the residuals:"
   ]
  },
  {
   "cell_type": "code",
   "execution_count": null,
   "metadata": {
    "collapsed": false
   },
   "outputs": [],
   "source": [
    "    nc = Dataset(filename, mode='r')\n",
    "    obs = nc.variables['tprof'][:]\n",
    "    obs = np.flipud(np.transpose(np.squeeze(obs)))\n",
    "    sim = nc.variables['temp'][:]\n",
    "    sim = np.flipud(np.transpose(np.squeeze(sim)))\n",
    "    nc.close()\n",
    "    residuals = obs-sim;\n",
    "    #fig = plt.plot(residuals.flatten(),'k-', markersize = 1)\n",
    "    plt.hist(residuals.flatten(), 100, normed=1, facecolor='green')\n",
    "    plt.show()\n",
    "    stats.describe(residuals.flatten())"
   ]
  },
  {
   "cell_type": "markdown",
   "metadata": {},
   "source": [
    "Also showing some statistics by depth:"
   ]
  },
  {
   "cell_type": "code",
   "execution_count": null,
   "metadata": {
    "collapsed": false,
    "scrolled": false
   },
   "outputs": [],
   "source": []
  },
  {
   "cell_type": "code",
   "execution_count": null,
   "metadata": {
    "collapsed": false,
    "deletable": true,
    "editable": true
   },
   "outputs": [],
   "source": [
    "def css_styling():\n",
    "    styles = open(\"./styles/custom.css\", \"r\").read()\n",
    "    return HTML(styles)\n",
    "css_styling()"
   ]
  },
  {
   "cell_type": "code",
   "execution_count": null,
   "metadata": {
    "collapsed": false,
    "deletable": true,
    "editable": true
   },
   "outputs": [],
   "source": [
    "%%javascript\n",
    "$('<div id=\"toc\"></div>').css({position: 'fixed', top: '120px', left: 0}).appendTo(document.body);\n",
    "$.getScript('https://kmahelona.github.io/ipython_notebook_goodies/ipython_notebook_toc.js');"
   ]
  }
 ],
 "metadata": {
  "kernelspec": {
   "display_name": "Python 3",
   "language": "python",
   "name": "python3"
  },
  "language_info": {
   "codemirror_mode": {
    "name": "ipython",
    "version": 3
   },
   "file_extension": ".py",
   "mimetype": "text/x-python",
   "name": "python",
   "nbconvert_exporter": "python",
   "pygments_lexer": "ipython3",
   "version": "3.5.2"
  }
 },
 "nbformat": 4,
 "nbformat_minor": 2
}
